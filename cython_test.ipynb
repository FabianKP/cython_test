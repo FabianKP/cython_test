{
 "cells": [
  {
   "cell_type": "markdown",
   "source": [
    "\n",
    "Cython test\n",
    "===\n",
    "\n",
    "In this little project we test the performance benefit from Cython over\n",
    "Python by implementing projected gradient descent to solve\n",
    "non-negative least-squares problems\n",
    "\n",
    "$\n",
    "\\min_{x >= 0} ||Ax - b||^2.\n",
    "$\n",
    "\n",
    "This is a suitable test case since it has more complexity than e.g.\n",
    "simple Fibonacci, but it is straightforward to compare.\n",
    "\n"
   ],
   "metadata": {
    "collapsed": false
   }
  },
  {
   "cell_type": "markdown",
   "source": [
    "As a benchmark, we will use the Lawson-Hanson method implemented in Scipy. We will test it on a moderately sized problem."
   ],
   "metadata": {
    "collapsed": false
   }
  },
  {
   "cell_type": "code",
   "execution_count": 1,
   "outputs": [],
   "source": [
    "\n",
    "import numpy as np\n",
    "# Import Lawson-Hanson method which we will use as a benchmark.\n",
    "from scipy.optimize import nnls\n",
    "from time import time\n",
    "\n",
    "\n",
    "m = 5000\n",
    "n = 3000\n",
    "\n",
    "# Create random A and b.\n",
    "A = np.random.randn(m, n)\n",
    "b = np.random.randn(m)"
   ],
   "metadata": {
    "collapsed": false
   }
  },
  {
   "cell_type": "markdown",
   "source": [],
   "metadata": {
    "collapsed": false
   }
  },
  {
   "cell_type": "code",
   "execution_count": 2,
   "outputs": [
    {
     "name": "stdout",
     "output_type": "stream",
     "text": [
      "Residual norm: 60.10621032582238.\n",
      "Lawson-Hanson method took 35.45346426963806 seconds.\n"
     ]
    }
   ],
   "source": [
    "# For benchmark, solve with Lawson-Hanson method.\n",
    "t0 = time()\n",
    "x_lh, rnorm_lh = nnls(A, b)\n",
    "t_lh = time() - t0\n",
    "print(f\"Residual norm: {rnorm_lh}.\")\n",
    "print(f\"Lawson-Hanson method took {t_lh} seconds.\")"
   ],
   "metadata": {
    "collapsed": false
   }
  },
  {
   "cell_type": "markdown",
   "source": [
    "So, this took quite some time. Next, we have implemented the *accelerated projected gradient descent* in pure Python. Let's see how it compares.\n",
    "\n"
   ],
   "metadata": {
    "collapsed": false
   }
  },
  {
   "cell_type": "code",
   "execution_count": 3,
   "outputs": [
    {
     "name": "stdout",
     "output_type": "stream",
     "text": [
      "Residual norm: 60.10621043028574.\n",
      "Accelerated projected gradient descent took 2.4835667610168457 seconds.\n"
     ]
    }
   ],
   "source": [
    "from src.apgd import accelerated_pgd\n",
    "\n",
    "# Have to provide initial guess.\n",
    "x0 = np.zeros(n)\n",
    "num_iter = 1000\n",
    "\n",
    "t0 = time()\n",
    "x_pgd, rnorm_pgd = accelerated_pgd(a=A, b=b, x0=x0, num_iter=num_iter)\n",
    "t_pgd = time() - t0\n",
    "print(f\"Residual norm: {rnorm_pgd}.\")\n",
    "print(f\"Accelerated projected gradient descent took {t_pgd} seconds.\")"
   ],
   "metadata": {
    "collapsed": false
   }
  },
  {
   "cell_type": "markdown",
   "source": [
    "We see that this method yields comparable results with a 10x-speedup.\n",
    "\n",
    "Finally, how about our Cython implementation of the accelerated PGD method?\n"
   ],
   "metadata": {
    "collapsed": false
   }
  },
  {
   "cell_type": "code",
   "execution_count": 4,
   "outputs": [
    {
     "name": "stdout",
     "output_type": "stream",
     "text": [
      "The Cython implementation took 2.3318402767181396 seconds.\n"
     ]
    }
   ],
   "source": [
    "from apgd_cython import accelerated_pgd_cython\n",
    "\n",
    "t0 = time()\n",
    "x_cython = accelerated_pgd_cython(a=A, b=b, x0=x0, num_iter=num_iter)\n",
    "t_cython = time() - t0\n",
    "print(f\"The Cython implementation took {t_cython} seconds.\")"
   ],
   "metadata": {
    "collapsed": false
   }
  },
  {
   "cell_type": "markdown",
   "source": [
    "Conclusion\n",
    "---\n",
    "\n",
    "In our particular case, Cython did not yield a speedup. The reason behind this is probably that most of the computations in `accelerated_pgd` are Numpy-operations\n",
    "that cannot be further optimized using Cython."
   ],
   "metadata": {
    "collapsed": false
   }
  }
 ],
 "metadata": {
  "kernelspec": {
   "display_name": "Python 3",
   "language": "python",
   "name": "python3"
  },
  "language_info": {
   "codemirror_mode": {
    "name": "ipython",
    "version": 2
   },
   "file_extension": ".py",
   "mimetype": "text/x-python",
   "name": "python",
   "nbconvert_exporter": "python",
   "pygments_lexer": "ipython2",
   "version": "2.7.6"
  }
 },
 "nbformat": 4,
 "nbformat_minor": 0
}
